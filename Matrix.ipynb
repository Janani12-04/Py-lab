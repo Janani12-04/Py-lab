{
 "cells": [
  {
   "cell_type": "code",
   "execution_count": 1,
   "id": "167e0212-0626-4814-89d6-680875eda87c",
   "metadata": {},
   "outputs": [
    {
     "name": "stdout",
     "output_type": "stream",
     "text": [
      "Matrix 1:\n",
      " [[49 47 47]\n",
      " [49  2 23]\n",
      " [47 30  6]]\n",
      "\n",
      "Matrix 2:\n",
      " [[32 37 33]\n",
      " [23 46 13]\n",
      " [24  9 42]]\n",
      "\n",
      "Addition:\n",
      " [[81 84 80]\n",
      " [72 48 36]\n",
      " [71 39 48]]\n",
      "\n",
      "Subtraction:\n",
      " [[ 17  10  14]\n",
      " [ 26 -44  10]\n",
      " [ 23  21 -36]]\n",
      "\n",
      "Multiplication:\n",
      " [[1568 1739 1551]\n",
      " [1127   92  299]\n",
      " [1128  270  252]]\n",
      "\n",
      "Division:\n",
      " [[1.53125    1.27027027 1.42424242]\n",
      " [2.13043478 0.04347826 1.76923077]\n",
      " [1.95833333 3.33333333 0.14285714]]\n"
     ]
    }
   ],
   "source": [
    "import numpy as np\n",
    "matrix1 = np.random.randint(1, 51, (3, 3))\n",
    "matrix2 = np.random.randint(1, 51, (3, 3))\n",
    "print(\"Matrix 1:\\n\", matrix1)\n",
    "print(\"\\nMatrix 2:\\n\", matrix2)\n",
    "add = matrix1 + matrix2\n",
    "print(\"\\nAddition:\\n\", add)\n",
    "sub = matrix1 - matrix2\n",
    "print(\"\\nSubtraction:\\n\", sub)\n",
    "mul= matrix1 * matrix2\n",
    "print(\"\\nMultiplication:\\n\", mul)\n",
    "div = matrix1 / matrix2\n",
    "print(\"\\nDivision:\\n\", div)\n"
   ]
  },
  {
   "cell_type": "code",
   "execution_count": null,
   "id": "685ef0fb-5d68-4ffa-a1e6-3447a185de69",
   "metadata": {},
   "outputs": [],
   "source": []
  }
 ],
 "metadata": {
  "kernelspec": {
   "display_name": "Python 3 (ipykernel)",
   "language": "python",
   "name": "python3"
  },
  "language_info": {
   "codemirror_mode": {
    "name": "ipython",
    "version": 3
   },
   "file_extension": ".py",
   "mimetype": "text/x-python",
   "name": "python",
   "nbconvert_exporter": "python",
   "pygments_lexer": "ipython3",
   "version": "3.12.7"
  }
 },
 "nbformat": 4,
 "nbformat_minor": 5
}
