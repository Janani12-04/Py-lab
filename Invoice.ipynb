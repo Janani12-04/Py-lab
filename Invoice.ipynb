{
 "cells": [
  {
   "cell_type": "code",
   "execution_count": 1,
   "id": "7eaabbf3-90e4-4fe4-ad96-8f2413e507f5",
   "metadata": {},
   "outputs": [
    {
     "name": "stdin",
     "output_type": "stream",
     "text": [
      "Enter customer name:  Abhi\n",
      "Enter product name:  Mobiles\n",
      "Enter product price: ₹ 50000\n"
     ]
    },
    {
     "name": "stdout",
     "output_type": "stream",
     "text": [
      "Customer: Abhi\n",
      "Product: Mobiles\n",
      "Total Amount: ₹50000.00\n"
     ]
    }
   ],
   "source": [
    "Customer_name = input(\"Enter customer name: \")\n",
    "product = input(\"Enter product name: \")\n",
    "price = float(input(\"Enter product price: ₹\"))\n",
    "print(f\"Customer: {Customer_name}\")\n",
    "print(f\"Product: {product}\")\n",
    "print(f\"Total Amount: ₹{price:.2f}\")\n",
    "\n"
   ]
  },
  {
   "cell_type": "code",
   "execution_count": null,
   "id": "59458bf1-18e9-4fc5-8e36-f796740740dd",
   "metadata": {},
   "outputs": [],
   "source": []
  }
 ],
 "metadata": {
  "kernelspec": {
   "display_name": "Python [conda env:base] *",
   "language": "python",
   "name": "conda-base-py"
  },
  "language_info": {
   "codemirror_mode": {
    "name": "ipython",
    "version": 3
   },
   "file_extension": ".py",
   "mimetype": "text/x-python",
   "name": "python",
   "nbconvert_exporter": "python",
   "pygments_lexer": "ipython3",
   "version": "3.12.7"
  }
 },
 "nbformat": 4,
 "nbformat_minor": 5
}
