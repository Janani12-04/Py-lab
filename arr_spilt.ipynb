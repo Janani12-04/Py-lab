{
 "cells": [
  {
   "cell_type": "code",
   "execution_count": 1,
   "id": "6bf42665-f539-488b-9de4-9382fefb654a",
   "metadata": {},
   "outputs": [
    {
     "name": "stdout",
     "output_type": "stream",
     "text": [
      "[78 65]\n",
      "[89 90]\n",
      "[56 80]\n"
     ]
    }
   ],
   "source": [
    "import numpy as np\n",
    "arr=np.array([78, 65, 89, 90, 56, 80])\n",
    "sub_array=np.split(arr,3)\n",
    "for sub_arr in sub_array:\n",
    "    print(sub_arr)"
   ]
  },
  {
   "cell_type": "code",
   "execution_count": null,
   "id": "14d4b42f-dd15-4f4b-9616-d1e1f8a421e1",
   "metadata": {},
   "outputs": [],
   "source": []
  }
 ],
 "metadata": {
  "kernelspec": {
   "display_name": "Python 3 (ipykernel)",
   "language": "python",
   "name": "python3"
  },
  "language_info": {
   "codemirror_mode": {
    "name": "ipython",
    "version": 3
   },
   "file_extension": ".py",
   "mimetype": "text/x-python",
   "name": "python",
   "nbconvert_exporter": "python",
   "pygments_lexer": "ipython3",
   "version": "3.12.7"
  }
 },
 "nbformat": 4,
 "nbformat_minor": 5
}
