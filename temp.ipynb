{
 "cells": [
  {
   "cell_type": "code",
   "execution_count": 1,
   "id": "a01194eb-d178-48cc-a338-c4c0fb387d42",
   "metadata": {},
   "outputs": [
    {
     "name": "stdout",
     "output_type": "stream",
     "text": [
      "[36 40 37]\n"
     ]
    }
   ],
   "source": [
    "import numpy as np\n",
    "temps = np.array([30, 36, 40, 28, 37])\n",
    "high_temps = temps[temps > 35]\n",
    "print(high_temps)\n"
   ]
  },
  {
   "cell_type": "code",
   "execution_count": null,
   "id": "99a7685c-af16-4196-9a28-f0aa3d4fbec7",
   "metadata": {},
   "outputs": [],
   "source": []
  }
 ],
 "metadata": {
  "kernelspec": {
   "display_name": "Python 3 (ipykernel)",
   "language": "python",
   "name": "python3"
  },
  "language_info": {
   "codemirror_mode": {
    "name": "ipython",
    "version": 3
   },
   "file_extension": ".py",
   "mimetype": "text/x-python",
   "name": "python",
   "nbconvert_exporter": "python",
   "pygments_lexer": "ipython3",
   "version": "3.12.7"
  }
 },
 "nbformat": 4,
 "nbformat_minor": 5
}
