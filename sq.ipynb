{
 "cells": [
  {
   "cell_type": "code",
   "execution_count": 28,
   "id": "05376573-00a5-413f-889f-9ff50d71c4a4",
   "metadata": {},
   "outputs": [
    {
     "name": "stdout",
     "output_type": "stream",
     "text": [
      "Squares of even numbers: [4, 16, 36, 64]\n",
      "Sum = 120\n"
     ]
    }
   ],
   "source": [
    "4.\n",
    "squares = [x**2 for x in range(1, 10) if x % 2 == 0]\n",
    "sum_of_squares = sum(squares)\n",
    "print(\"Squares of even numbers:\", squares)\n",
    "print(\"Sum =\", sum_of_squares)\n"
   ]
  },
  {
   "cell_type": "code",
   "execution_count": null,
   "id": "e162b054-1976-4ac6-8bd8-ee19c9812622",
   "metadata": {},
   "outputs": [],
   "source": []
  }
 ],
 "metadata": {
  "kernelspec": {
   "display_name": "Python [conda env:base] *",
   "language": "python",
   "name": "conda-base-py"
  },
  "language_info": {
   "codemirror_mode": {
    "name": "ipython",
    "version": 3
   },
   "file_extension": ".py",
   "mimetype": "text/x-python",
   "name": "python",
   "nbconvert_exporter": "python",
   "pygments_lexer": "ipython3",
   "version": "3.12.7"
  }
 },
 "nbformat": 4,
 "nbformat_minor": 5
}
