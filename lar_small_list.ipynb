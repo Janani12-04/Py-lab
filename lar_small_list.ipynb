{
 "cells": [
  {
   "cell_type": "code",
   "execution_count": 11,
   "id": "7a6a5486-e442-4958-befd-1aebe46be156",
   "metadata": {},
   "outputs": [
    {
     "name": "stdout",
     "output_type": "stream",
     "text": [
      "1\n",
      "9\n"
     ]
    }
   ],
   "source": [
    "list=[6,8,9,3,2,4,1,5]\n",
    "small=list[0]\n",
    "for num in list:\n",
    "    if(num<small):\n",
    "        small=num\n",
    "print(small)\n",
    "lar=list[0]\n",
    "for num in list:\n",
    "    if(num>lar):\n",
    "        lar=num\n",
    "print(lar)"
   ]
  },
  {
   "cell_type": "code",
   "execution_count": null,
   "id": "10ded608-9b59-4064-ae02-e7ca170bffc9",
   "metadata": {},
   "outputs": [],
   "source": []
  }
 ],
 "metadata": {
  "kernelspec": {
   "display_name": "Python [conda env:base] *",
   "language": "python",
   "name": "conda-base-py"
  },
  "language_info": {
   "codemirror_mode": {
    "name": "ipython",
    "version": 3
   },
   "file_extension": ".py",
   "mimetype": "text/x-python",
   "name": "python",
   "nbconvert_exporter": "python",
   "pygments_lexer": "ipython3",
   "version": "3.12.7"
  }
 },
 "nbformat": 4,
 "nbformat_minor": 5
}
