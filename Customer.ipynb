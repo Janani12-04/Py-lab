{
 "cells": [
  {
   "cell_type": "code",
   "execution_count": 120,
   "id": "e675c345-5e8d-47ff-b59b-53cd787b90d2",
   "metadata": {},
   "outputs": [
    {
     "name": "stdout",
     "output_type": "stream",
     "text": [
      "{'Jaan', 'Abhi'}\n"
     ]
    }
   ],
   "source": [
    "store1_customers = {\"Ram\", \"Abhi\", \"Jaan\", \"Aavi\"}\n",
    "store2_customers = {\"Anu\", \"Abhi\", \"Manu\", \"Jaan\"}\n",
    "\n",
    "common_customers = store1_customers & store2_customers\n",
    "print(common_customers)\n"
   ]
  },
  {
   "cell_type": "code",
   "execution_count": null,
   "id": "34f03f9a-c246-42f7-8ac0-1a1c533117c3",
   "metadata": {},
   "outputs": [],
   "source": []
  }
 ],
 "metadata": {
  "kernelspec": {
   "display_name": "Python [conda env:base] *",
   "language": "python",
   "name": "conda-base-py"
  },
  "language_info": {
   "codemirror_mode": {
    "name": "ipython",
    "version": 3
   },
   "file_extension": ".py",
   "mimetype": "text/x-python",
   "name": "python",
   "nbconvert_exporter": "python",
   "pygments_lexer": "ipython3",
   "version": "3.12.7"
  }
 },
 "nbformat": 4,
 "nbformat_minor": 5
}
