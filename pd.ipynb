{
 "cells": [
  {
   "cell_type": "code",
   "execution_count": 8,
   "id": "ec99af26-93c9-46b9-bc67-058e523fff2f",
   "metadata": {},
   "outputs": [
    {
     "name": "stdout",
     "output_type": "stream",
     "text": [
      "  Employee Department  Salary  Age\n",
      "0     John         IT   60000   30\n",
      "1    Alice         HR   55000   28\n",
      "\n",
      "\n",
      "  Employee Department  Salary  Age  Experience\n",
      "0     John         IT   60000   30           5\n",
      "1    Alice         HR   55000   28           3\n",
      "2      Bob    Finance   70000   35           7\n",
      "3     Emma         IT   72000   32           6\n",
      "\n",
      "Average Salary of all employees: 64250.0\n"
     ]
    }
   ],
   "source": [
    "import pandas as pd\n",
    "data = {\n",
    "    'Employee': ['John', 'Alice', 'Bob', 'Emma'],\n",
    "    'Department': ['IT', 'HR', 'Finance', 'IT'],\n",
    "    'Salary': [60000, 55000, 70000, 72000],\n",
    "    'Age': [30, 28, 35, 32]\n",
    "}\n",
    "df = pd.DataFrame(data)\n",
    "print(df.head(2))\n",
    "print(\"\\n\")\n",
    "df['Experience'] = [5, 3, 7, 6]\n",
    "print(df)\n",
    "average_salary = df['Salary'].mean()\n",
    "print(f\"\\nAverage Salary of all employees: {average_salary}\")\n"
   ]
  },
  {
   "cell_type": "code",
   "execution_count": null,
   "id": "13234e89-9ac4-44c2-9c2d-6f2b1c27b555",
   "metadata": {},
   "outputs": [],
   "source": []
  }
 ],
 "metadata": {
  "kernelspec": {
   "display_name": "Python 3 (ipykernel)",
   "language": "python",
   "name": "python3"
  },
  "language_info": {
   "codemirror_mode": {
    "name": "ipython",
    "version": 3
   },
   "file_extension": ".py",
   "mimetype": "text/x-python",
   "name": "python",
   "nbconvert_exporter": "python",
   "pygments_lexer": "ipython3",
   "version": "3.12.7"
  }
 },
 "nbformat": 4,
 "nbformat_minor": 5
}
