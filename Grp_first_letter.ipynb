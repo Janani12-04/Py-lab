{
 "cells": [
  {
   "cell_type": "code",
   "execution_count": 27,
   "id": "584fab0c-c116-49af-bf6d-e596a0e665d9",
   "metadata": {},
   "outputs": [
    {
     "name": "stdout",
     "output_type": "stream",
     "text": [
      "Names grouped by first letter:\n",
      "A: ['Abhi', 'Anu']\n",
      "B: ['Bob', 'Baby']\n",
      "C: ['Chikki', 'Chethu']\n",
      "D: ['Don', 'Danu']\n",
      "J: ['Jaan']\n"
     ]
    }
   ],
   "source": [
    "names = [\"Abhi\",\"Bob\",\"Chikki\",\"Don\",\"Anu\",\"Baby\",\"Chethu\",\"Danu\",\"Jaan\"]\n",
    "grouped_names = {}\n",
    "for name in names:\n",
    "    first_letter = name[0].upper()\n",
    "    grouped_names.setdefault(first_letter, []).append(name)\n",
    "\n",
    "print(\"Names grouped by first letter:\")\n",
    "for letter, name_list in grouped_names.items():\n",
    "    print(f\"{letter}: {name_list}\")\n"
   ]
  },
  {
   "cell_type": "code",
   "execution_count": null,
   "id": "606956f9-8639-4aee-ac6f-94434fa5a0fd",
   "metadata": {},
   "outputs": [],
   "source": []
  }
 ],
 "metadata": {
  "kernelspec": {
   "display_name": "Python [conda env:base] *",
   "language": "python",
   "name": "conda-base-py"
  },
  "language_info": {
   "codemirror_mode": {
    "name": "ipython",
    "version": 3
   },
   "file_extension": ".py",
   "mimetype": "text/x-python",
   "name": "python",
   "nbconvert_exporter": "python",
   "pygments_lexer": "ipython3",
   "version": "3.12.7"
  }
 },
 "nbformat": 4,
 "nbformat_minor": 5
}
