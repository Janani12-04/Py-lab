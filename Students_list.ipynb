{
 "cells": [
  {
   "cell_type": "code",
   "execution_count": 19,
   "id": "f34ec772-5b91-4e8b-b73d-c9d8d9c3e9cd",
   "metadata": {},
   "outputs": [
    {
     "name": "stdout",
     "output_type": "stream",
     "text": [
      "('Anu', 1, (80, 85, 90), 'A')\n",
      "('Johnny', 2, (70, 75, 80), 'B')\n",
      "('Vicky', 3, (60, 65, 70), 'C')\n"
     ]
    }
   ],
   "source": [
    "students = []\n",
    "def create_students():\n",
    "    global students\n",
    "    students = [\n",
    "        (\"Anu\", 1, (80, 85, 90), \"A\"),\n",
    "        (\"Johnny\", 2, (70, 75, 80), \"B\"),\n",
    "        (\"Vicky\", 3, (60, 65, 70), \"C\")\n",
    "    ]\n",
    "create_students()\n",
    "def show_students():\n",
    "    for s in students:\n",
    "        print(s)\n",
    "show_students()"
   ]
  },
  {
   "cell_type": "code",
   "execution_count": 21,
   "id": "e4371cc4-4319-4ede-9fd3-040d0c4aee85",
   "metadata": {},
   "outputs": [
    {
     "name": "stdout",
     "output_type": "stream",
     "text": [
      "Student added!\n"
     ]
    }
   ],
   "source": [
    "def add_student(name, roll, marks, grade):\n",
    "    student = (name, roll, marks, grade)\n",
    "    students.append(student)\n",
    "    print(\"Student added!\")\n",
    "add_student(\"Shilpa\", 4, (88, 90, 92), \"A\")"
   ]
  },
  {
   "cell_type": "code",
   "execution_count": 23,
   "id": "ffb8289e-0d41-454f-8ac5-045b5fe29e62",
   "metadata": {},
   "outputs": [
    {
     "name": "stdout",
     "output_type": "stream",
     "text": [
      "Anu's Total Marks: 255\n",
      "Johnny's Total Marks: 225\n",
      "Vicky's Total Marks: 195\n",
      "Shilpa's Total Marks: 270\n"
     ]
    }
   ],
   "source": [
    "def total_marks():\n",
    "    for s in students:\n",
    "        total = sum(s[2])\n",
    "        print(f\"{s[0]}'s Total Marks: {total}\")\n",
    "total_marks()"
   ]
  },
  {
   "cell_type": "code",
   "execution_count": 25,
   "id": "f5790eef-63e7-4928-98e1-b120f2918ebd",
   "metadata": {},
   "outputs": [
    {
     "name": "stdout",
     "output_type": "stream",
     "text": [
      "Student found: ('Johnny', 2, (70, 75, 80), 'B')\n"
     ]
    }
   ],
   "source": [
    "def search_student(roll):\n",
    "    for s in students:\n",
    "        if s[1] == roll:\n",
    "            print(\"Student found:\", s)\n",
    "            return\n",
    "    print(\"Student not found!\")\n",
    "search_student(2)"
   ]
  },
  {
   "cell_type": "code",
   "execution_count": 27,
   "id": "4622b107-1709-45d2-9de9-5592f7204056",
   "metadata": {},
   "outputs": [
    {
     "name": "stdout",
     "output_type": "stream",
     "text": [
      "Grade updated!\n"
     ]
    }
   ],
   "source": [
    "def update_grade(roll, new_grade):\n",
    "    global students\n",
    "    new_list = []\n",
    "    for s in students:\n",
    "        if s[1] == roll:\n",
    "            s = (s[0], s[1], s[2], new_grade)\n",
    "            print(\"Grade updated!\")\n",
    "        new_list.append(s)\n",
    "    students = new_list\n",
    "update_grade(1,\"B\")"
   ]
  },
  {
   "cell_type": "code",
   "execution_count": 29,
   "id": "f0295765-6651-4d95-a397-5cbd6a1b2e49",
   "metadata": {},
   "outputs": [
    {
     "name": "stdout",
     "output_type": "stream",
     "text": [
      "Student removed.\n"
     ]
    }
   ],
   "source": [
    "def remove_student(roll):\n",
    "    global students\n",
    "    students = [s for s in students if s[1] != roll]\n",
    "    print(\"Student removed.\")\n",
    "remove_student(2)"
   ]
  },
  {
   "cell_type": "code",
   "execution_count": 31,
   "id": "c94f41ea-6f5f-4135-86e6-288828535d15",
   "metadata": {},
   "outputs": [
    {
     "name": "stdout",
     "output_type": "stream",
     "text": [
      "\n",
      "Final student list:\n",
      "('Anu', 1, (80, 85, 90), 'B')\n",
      "('Vicky', 3, (60, 65, 70), 'C')\n",
      "('Shilpa', 4, (88, 90, 92), 'A')\n"
     ]
    }
   ],
   "source": [
    "print(\"\\nFinal student list:\")\n",
    "show_students()"
   ]
  },
  {
   "cell_type": "code",
   "execution_count": null,
   "id": "25a0f807-4bde-4655-a178-eb96113124aa",
   "metadata": {},
   "outputs": [],
   "source": []
  }
 ],
 "metadata": {
  "kernelspec": {
   "display_name": "Python [conda env:base] *",
   "language": "python",
   "name": "conda-base-py"
  },
  "language_info": {
   "codemirror_mode": {
    "name": "ipython",
    "version": 3
   },
   "file_extension": ".py",
   "mimetype": "text/x-python",
   "name": "python",
   "nbconvert_exporter": "python",
   "pygments_lexer": "ipython3",
   "version": "3.12.7"
  }
 },
 "nbformat": 4,
 "nbformat_minor": 5
}
