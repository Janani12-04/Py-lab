{
 "cells": [
  {
   "cell_type": "code",
   "execution_count": 134,
   "id": "6b81ee6b-87ab-4b27-aedd-b2340d05d10a",
   "metadata": {},
   "outputs": [
    {
     "name": "stdout",
     "output_type": "stream",
     "text": [
      "Has duplicates: True\n"
     ]
    }
   ],
   "source": [
    "sentence = \"the sky is blue and the grass is green\"\n",
    "words = sentence.split()\n",
    "duplicates = len(words) != len(set(words))\n",
    "print(\"Has duplicates:\",duplicates)\n"
   ]
  },
  {
   "cell_type": "code",
   "execution_count": null,
   "id": "10e1ffc2-6ccc-4d4f-b326-ece6745c57e6",
   "metadata": {},
   "outputs": [],
   "source": []
  }
 ],
 "metadata": {
  "kernelspec": {
   "display_name": "Python [conda env:base] *",
   "language": "python",
   "name": "conda-base-py"
  },
  "language_info": {
   "codemirror_mode": {
    "name": "ipython",
    "version": 3
   },
   "file_extension": ".py",
   "mimetype": "text/x-python",
   "name": "python",
   "nbconvert_exporter": "python",
   "pygments_lexer": "ipython3",
   "version": "3.12.7"
  }
 },
 "nbformat": 4,
 "nbformat_minor": 5
}
