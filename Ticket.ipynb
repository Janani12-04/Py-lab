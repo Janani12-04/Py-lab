{
 "cells": [
  {
   "cell_type": "code",
   "execution_count": 2,
   "id": "05376573-00a5-413f-889f-9ff50d71c4a4",
   "metadata": {},
   "outputs": [
    {
     "name": "stdin",
     "output_type": "stream",
     "text": [
      "Enter your age:  25\n"
     ]
    },
    {
     "name": "stdout",
     "output_type": "stream",
     "text": [
      "Ticket price: ₹200\n"
     ]
    }
   ],
   "source": [
    "1.\n",
    "age = int(input(\"Enter your age: \"))\n",
    "if age < 5:\n",
    "    print(\"Ticket price: Free\")\n",
    "elif 5 <= age <= 18:\n",
    "    print(\"Ticket price: ₹100\")\n",
    "elif 19 <= age <= 60:\n",
    "    print(\"Ticket price: ₹200\")\n",
    "else:\n",
    "    print(\"Ticket price: ₹150\")\n"
   ]
  },
  {
   "cell_type": "code",
   "execution_count": null,
   "id": "73e9fba3-9bb2-45c0-8ddb-17ddc74682f7",
   "metadata": {},
   "outputs": [],
   "source": []
  }
 ],
 "metadata": {
  "kernelspec": {
   "display_name": "Python [conda env:base] *",
   "language": "python",
   "name": "conda-base-py"
  },
  "language_info": {
   "codemirror_mode": {
    "name": "ipython",
    "version": 3
   },
   "file_extension": ".py",
   "mimetype": "text/x-python",
   "name": "python",
   "nbconvert_exporter": "python",
   "pygments_lexer": "ipython3",
   "version": "3.12.7"
  }
 },
 "nbformat": 4,
 "nbformat_minor": 5
}
