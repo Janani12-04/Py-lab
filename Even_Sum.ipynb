{
 "cells": [
  {
   "cell_type": "code",
   "execution_count": 9,
   "id": "75f0fcf1-1ce7-46a3-afd2-e89a8af51c46",
   "metadata": {},
   "outputs": [
    {
     "name": "stdout",
     "output_type": "stream",
     "text": [
      "110\n"
     ]
    }
   ],
   "source": [
    "def sum_of_even_numbers(start, end):\n",
    "    even_sum = 0\n",
    "    for num in range(start, end + 1):\n",
    "        if num % 2 == 0:\n",
    "            even_sum += num\n",
    "    return even_sum\n",
    "start = 2\n",
    "end = 20\n",
    "result = sum_of_even_numbers(start, end)\n",
    "print(result)\n"
   ]
  },
  {
   "cell_type": "code",
   "execution_count": null,
   "id": "403562c7-7d65-4a3c-a9ca-aaf6b4d024cc",
   "metadata": {},
   "outputs": [],
   "source": []
  }
 ],
 "metadata": {
  "kernelspec": {
   "display_name": "Python [conda env:base] *",
   "language": "python",
   "name": "conda-base-py"
  },
  "language_info": {
   "codemirror_mode": {
    "name": "ipython",
    "version": 3
   },
   "file_extension": ".py",
   "mimetype": "text/x-python",
   "name": "python",
   "nbconvert_exporter": "python",
   "pygments_lexer": "ipython3",
   "version": "3.12.7"
  }
 },
 "nbformat": 4,
 "nbformat_minor": 5
}
