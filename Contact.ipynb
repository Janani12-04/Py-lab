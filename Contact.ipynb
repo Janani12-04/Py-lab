{
 "cells": [
  {
   "cell_type": "code",
   "execution_count": 3,
   "id": "76025ca8-b9b7-40bc-8565-4d85676959e5",
   "metadata": {},
   "outputs": [
    {
     "name": "stdin",
     "output_type": "stream",
     "text": [
      "Enter the name:  Abhi\n",
      "Enter the phone number:  9876504301\n"
     ]
    },
    {
     "name": "stdout",
     "output_type": "stream",
     "text": [
      "Updating phone number for Abhi.\n",
      "Updated Contact Book:\n",
      "Abhi: 9876504301\n",
      "John: 7890543210\n"
     ]
    }
   ],
   "source": [
    "contacts = {\n",
    "    \"Abhi\": \"9876543211\",\n",
    "    \"John\": \"7890543210\"\n",
    "}\n",
    "name = input(\"Enter the name: \")\n",
    "phone = input(\"Enter the phone number: \")\n",
    "\n",
    "if name in contacts:\n",
    "    print(f\"Updating phone number for {name}.\")\n",
    "else:\n",
    "    print(f\"Adding new contact: {name}.\")\n",
    "\n",
    "contacts[name] = phone\n",
    "\n",
    "print(\"Updated Contact Book:\")\n",
    "for contact, number in contacts.items():\n",
    "    print(f\"{contact}: {number}\")"
   ]
  },
  {
   "cell_type": "code",
   "execution_count": 5,
   "id": "9c604e5f-5543-4d90-a3e0-b323006a90f8",
   "metadata": {},
   "outputs": [
    {
     "name": "stdin",
     "output_type": "stream",
     "text": [
      "Enter the name:  Jaan\n",
      "Enter the phone number:  9765430112\n"
     ]
    },
    {
     "name": "stdout",
     "output_type": "stream",
     "text": [
      "Adding new contact: Jaan.\n",
      "Updated Contact Book:\n",
      "Abhi: 9876543211\n",
      "John: 7890543210\n",
      "Jaan: 9765430112\n"
     ]
    }
   ],
   "source": [
    "contacts = {\n",
    "    \"Abhi\": \"9876543211\",\n",
    "    \"John\": \"7890543210\"\n",
    "}\n",
    "name = input(\"Enter the name: \")\n",
    "phone = input(\"Enter the phone number: \")\n",
    "\n",
    "if name in contacts:\n",
    "    print(f\"Updating phone number for {name}.\")\n",
    "else:\n",
    "    print(f\"Adding new contact: {name}.\")\n",
    "\n",
    "contacts[name] = phone\n",
    "\n",
    "print(\"Updated Contact Book:\")\n",
    "for contact, number in contacts.items():\n",
    "    print(f\"{contact}: {number}\")"
   ]
  },
  {
   "cell_type": "code",
   "execution_count": null,
   "id": "a9f2d6fa-1257-47fe-aedd-1038cdd7f266",
   "metadata": {},
   "outputs": [],
   "source": []
  }
 ],
 "metadata": {
  "kernelspec": {
   "display_name": "Python [conda env:base] *",
   "language": "python",
   "name": "conda-base-py"
  },
  "language_info": {
   "codemirror_mode": {
    "name": "ipython",
    "version": 3
   },
   "file_extension": ".py",
   "mimetype": "text/x-python",
   "name": "python",
   "nbconvert_exporter": "python",
   "pygments_lexer": "ipython3",
   "version": "3.12.7"
  }
 },
 "nbformat": 4,
 "nbformat_minor": 5
}
