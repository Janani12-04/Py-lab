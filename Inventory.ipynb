{
 "cells": [
  {
   "cell_type": "code",
   "execution_count": 43,
   "id": "606956f9-8639-4aee-ac6f-94434fa5a0fd",
   "metadata": {},
   "outputs": [
    {
     "name": "stdin",
     "output_type": "stream",
     "text": [
      "Enter the item you want to buy:  Pencil\n",
      "Enter the quantity:  10\n"
     ]
    },
    {
     "name": "stdout",
     "output_type": "stream",
     "text": [
      "Sold 10 Pencil(s). Remaining stock: 5\n"
     ]
    }
   ],
   "source": [
    "inventory = {\n",
    "    \"Pen\": 10,\n",
    "    \"Pencil\": 15,\n",
    "    \"Scale\": 8,\n",
    "    \"Geometry\": 5\n",
    "}\n",
    "\n",
    "item = input(\"Enter the item you want to buy: \")\n",
    "quantity = int(input(\"Enter the quantity: \"))\n",
    "\n",
    "if item in inventory:\n",
    "    if inventory[item] >= quantity:\n",
    "        inventory[item] -= quantity\n",
    "        print(f\"Sold {quantity} {item}(s). Remaining stock: {inventory[item]}\")\n",
    "    else:\n",
    "        print(f\"Not enough {item} in stock. Only {inventory[item]} available.\")\n",
    "else:\n",
    "    print(f\"{item.capitalize()} is not available in the inventory.\")\n"
   ]
  },
  {
   "cell_type": "code",
   "execution_count": 45,
   "id": "da0cd7d1-ff29-4c31-ad23-89831e2a4801",
   "metadata": {},
   "outputs": [
    {
     "name": "stdin",
     "output_type": "stream",
     "text": [
      "Enter the item you want to buy:  Apple\n",
      "Enter the quantity:  5\n"
     ]
    },
    {
     "name": "stdout",
     "output_type": "stream",
     "text": [
      "Apple is not available in the inventory.\n"
     ]
    }
   ],
   "source": [
    "inventory = {\n",
    "    \"Pen\": 10,\n",
    "    \"Pencil\": 15,\n",
    "    \"Scale\": 8,\n",
    "    \"Geometry\": 5\n",
    "}\n",
    "\n",
    "item = input(\"Enter the item you want to buy: \")\n",
    "quantity = int(input(\"Enter the quantity: \"))\n",
    "\n",
    "if item in inventory:\n",
    "    if inventory[item] >= quantity:\n",
    "        inventory[item] -= quantity\n",
    "        print(f\"Sold {quantity} {item}(s). Remaining stock: {inventory[item]}\")\n",
    "    else:\n",
    "        print(f\"Not enough {item} in stock. Only {inventory[item]} available.\")\n",
    "else:\n",
    "    print(f\"{item.capitalize()} is not available in the inventory.\")\n"
   ]
  },
  {
   "cell_type": "code",
   "execution_count": null,
   "id": "2aa1e25b-fd7f-4eff-9334-9f0681ec180f",
   "metadata": {},
   "outputs": [],
   "source": []
  }
 ],
 "metadata": {
  "kernelspec": {
   "display_name": "Python [conda env:base] *",
   "language": "python",
   "name": "conda-base-py"
  },
  "language_info": {
   "codemirror_mode": {
    "name": "ipython",
    "version": 3
   },
   "file_extension": ".py",
   "mimetype": "text/x-python",
   "name": "python",
   "nbconvert_exporter": "python",
   "pygments_lexer": "ipython3",
   "version": "3.12.7"
  }
 },
 "nbformat": 4,
 "nbformat_minor": 5
}
