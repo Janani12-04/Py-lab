{
 "cells": [
  {
   "cell_type": "code",
   "execution_count": 7,
   "id": "e4b44a63-5fa9-4d09-9fc5-4b2a677fd223",
   "metadata": {},
   "outputs": [
    {
     "name": "stdout",
     "output_type": "stream",
     "text": [
      "  Order_ID  Customer_Name     Product     Category  Amount  Quantity  \\\n",
      "0      101  Alice Jhonson      Laptop  Electronics     800         1   \n",
      "1      102      Bob smith  Headphones   Acessories      50         2   \n",
      "2      103  Charlie Brown  Smartphone  Electronics     600         1   \n",
      "3      104   David Wilson      Tablet   Electronic     300         1   \n",
      "4      105     Eva Adamas  Smartwatch    Wearables     150         1   \n",
      "\n",
      "  Order_Status  Shipping_Partner  Review_Rating  \n",
      "0      Shipped             FedEx            4.5  \n",
      "1      Pending               DHL            4.0  \n",
      "2    Delivered               UPS            3.8  \n",
      "3      Shipped  Amazon Logistics            4.2  \n",
      "4    Delivered         Blue Dart            4.7  \n"
     ]
    }
   ],
   "source": [
    "import pandas as pd\n",
    "data = {\n",
    "    'Order_ID': ['101', '102', '103', '104', '105'],\n",
    "    'Customer_Name': ['Alice Jhonson', 'Bob smith', 'Charlie Brown', 'David Wilson', 'Eva Adamas'],\n",
    "    'Product': ['Laptop', 'Headphones', 'Smartphone', 'Tablet','Smartwatch'],\n",
    "    'Category':['Electronics','Acessories','Electronics','Electronic','Wearables'],\n",
    "    'Amount': [800,50,600,300,150],\n",
    "    'Quantity':[1,2,1,1,1]\n",
    "}\n",
    "df = pd.DataFrame(data)\n",
    "df['Order_Status'] = ['Shipped', 'Pending', 'Delivered', 'Shipped', 'Delivered']\n",
    "df['Shipping_Partner'] = ['FedEx', 'DHL', 'UPS', 'Amazon Logistics', 'Blue Dart']\n",
    "df['Review_Rating'] = [4.5, 4.0, 3.8, 4.2, 4.7]\n",
    "print(df)\n"
   ]
  },
  {
   "cell_type": "code",
   "execution_count": null,
   "id": "2df14413-982d-434e-bc38-0b303d47ed5a",
   "metadata": {},
   "outputs": [],
   "source": []
  }
 ],
 "metadata": {
  "kernelspec": {
   "display_name": "Python 3 (ipykernel)",
   "language": "python",
   "name": "python3"
  },
  "language_info": {
   "codemirror_mode": {
    "name": "ipython",
    "version": 3
   },
   "file_extension": ".py",
   "mimetype": "text/x-python",
   "name": "python",
   "nbconvert_exporter": "python",
   "pygments_lexer": "ipython3",
   "version": "3.12.7"
  }
 },
 "nbformat": 4,
 "nbformat_minor": 5
}
