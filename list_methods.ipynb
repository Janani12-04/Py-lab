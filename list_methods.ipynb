{
 "cells": [
  {
   "cell_type": "code",
   "execution_count": 2,
   "id": "52e616b4-eaa5-4f04-8a94-516f746ee21d",
   "metadata": {},
   "outputs": [
    {
     "name": "stdout",
     "output_type": "stream",
     "text": [
      "[15, 25, 35, 45, 55, 65]\n",
      "[15, 25, 'Inserted', 35, 45, 55, 65]\n",
      "[15, 'Inserted', 35, 45, 55, 65]\n"
     ]
    }
   ],
   "source": [
    "list = [15, 25, 35, 45, 55]\n",
    "list.append(65) \n",
    "print(list)\n",
    "list.insert(2, \"Inserted\") \n",
    "print(list)\n",
    "list.remove(25)\n",
    "print(list)"
   ]
  },
  {
   "cell_type": "code",
   "execution_count": null,
   "id": "9c6785e4-4414-4add-9577-a6feed518049",
   "metadata": {},
   "outputs": [],
   "source": []
  }
 ],
 "metadata": {
  "kernelspec": {
   "display_name": "Python [conda env:base] *",
   "language": "python",
   "name": "conda-base-py"
  },
  "language_info": {
   "codemirror_mode": {
    "name": "ipython",
    "version": 3
   },
   "file_extension": ".py",
   "mimetype": "text/x-python",
   "name": "python",
   "nbconvert_exporter": "python",
   "pygments_lexer": "ipython3",
   "version": "3.12.7"
  }
 },
 "nbformat": 4,
 "nbformat_minor": 5
}
