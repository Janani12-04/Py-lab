{
 "cells": [
  {
   "cell_type": "code",
   "execution_count": 5,
   "id": "cee240f5-cb71-41a3-aa45-34ad2b4d745f",
   "metadata": {},
   "outputs": [
    {
     "name": "stdin",
     "output_type": "stream",
     "text": [
      "Enter the exam score:  -1\n"
     ]
    },
    {
     "name": "stdout",
     "output_type": "stream",
     "text": [
      "InvalidScoreError: Score cannot be negative.\n"
     ]
    }
   ],
   "source": [
    "class InvalidScoreError(Exception):\n",
    "    \"\"\"Custom exception for invalid exam scores.\"\"\"\n",
    "    pass\n",
    "def validate_score(score):\n",
    "    if score < 0:\n",
    "        raise InvalidScoreError(\"Score cannot be negative.\")\n",
    "    elif score > 100:\n",
    "        raise InvalidScoreError(\"Score cannot exceed 100.\")\n",
    "    return \"Score is valid!\"\n",
    "\n",
    "try:\n",
    "    score_input = int(input(\"Enter the exam score: \"))\n",
    "    result = validate_score(score_input)\n",
    "    print(result)\n",
    "except InvalidScoreError as e:\n",
    "    print(f\"InvalidScoreError: {e}\")\n",
    "except ValueError:\n",
    "    print(\"Error: Please enter a valid integer.\")\n"
   ]
  },
  {
   "cell_type": "code",
   "execution_count": 6,
   "id": "ac8235a5-5dff-4014-b191-96b114ad8be5",
   "metadata": {},
   "outputs": [
    {
     "name": "stdin",
     "output_type": "stream",
     "text": [
      "Enter the exam score:  95\n"
     ]
    },
    {
     "name": "stdout",
     "output_type": "stream",
     "text": [
      "Score is valid!\n"
     ]
    }
   ],
   "source": [
    "class InvalidScoreError(Exception):\n",
    "    \"\"\"Custom exception for invalid exam scores.\"\"\"\n",
    "    pass\n",
    "def validate_score(score):\n",
    "    if score < 0:\n",
    "        raise InvalidScoreError(\"Score cannot be negative.\")\n",
    "    elif score > 100:\n",
    "        raise InvalidScoreError(\"Score cannot exceed 100.\")\n",
    "    return \"Score is valid!\"\n",
    "\n",
    "try:\n",
    "    score_input = int(input(\"Enter the exam score: \"))\n",
    "    result = validate_score(score_input)\n",
    "    print(result)\n",
    "except InvalidScoreError as e:\n",
    "    print(f\"InvalidScoreError: {e}\")\n",
    "except ValueError:\n",
    "    print(\"Error: Please enter a valid integer.\")\n"
   ]
  },
  {
   "cell_type": "code",
   "execution_count": 7,
   "id": "d635a851-0e3a-4656-9624-7a840b450b0c",
   "metadata": {},
   "outputs": [
    {
     "name": "stdin",
     "output_type": "stream",
     "text": [
      "Enter the exam score:  106\n"
     ]
    },
    {
     "name": "stdout",
     "output_type": "stream",
     "text": [
      "InvalidScoreError: Score cannot exceed 100.\n"
     ]
    }
   ],
   "source": [
    "class InvalidScoreError(Exception):\n",
    "    \"\"\"Custom exception for invalid exam scores.\"\"\"\n",
    "    pass\n",
    "def validate_score(score):\n",
    "    if score < 0:\n",
    "        raise InvalidScoreError(\"Score cannot be negative.\")\n",
    "    elif score > 100:\n",
    "        raise InvalidScoreError(\"Score cannot exceed 100.\")\n",
    "    return \"Score is valid!\"\n",
    "\n",
    "try:\n",
    "    score_input = int(input(\"Enter the exam score: \"))\n",
    "    result = validate_score(score_input)\n",
    "    print(result)\n",
    "except InvalidScoreError as e:\n",
    "    print(f\"InvalidScoreError: {e}\")\n",
    "except ValueError:\n",
    "    print(\"Error: Please enter a valid integer.\")\n"
   ]
  },
  {
   "cell_type": "code",
   "execution_count": null,
   "id": "cb813101-210f-4d18-80a5-fcc6b23c3dd8",
   "metadata": {},
   "outputs": [],
   "source": []
  }
 ],
 "metadata": {
  "kernelspec": {
   "display_name": "Python 3 (ipykernel)",
   "language": "python",
   "name": "python3"
  },
  "language_info": {
   "codemirror_mode": {
    "name": "ipython",
    "version": 3
   },
   "file_extension": ".py",
   "mimetype": "text/x-python",
   "name": "python",
   "nbconvert_exporter": "python",
   "pygments_lexer": "ipython3",
   "version": "3.12.7"
  }
 },
 "nbformat": 4,
 "nbformat_minor": 5
}
