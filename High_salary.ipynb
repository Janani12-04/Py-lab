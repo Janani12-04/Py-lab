{
 "cells": [
  {
   "cell_type": "code",
   "execution_count": 14,
   "id": "a01194eb-d178-48cc-a338-c4c0fb387d42",
   "metadata": {},
   "outputs": [
    {
     "name": "stdout",
     "output_type": "stream",
     "text": [
      "Salary greater than 50000: [55000 62000]\n"
     ]
    }
   ],
   "source": [
    "import numpy as np\n",
    "salary=np.array([40000, 55000, 62000, 48000])\n",
    "extract_elements=np.extract(salary>50000,salary)\n",
    "print(\"Salary greater than 50000:\",extract_elements)"
   ]
  },
  {
   "cell_type": "code",
   "execution_count": null,
   "id": "d56cf44c-d049-4578-8da5-bc6936b0ce5b",
   "metadata": {},
   "outputs": [],
   "source": []
  }
 ],
 "metadata": {
  "kernelspec": {
   "display_name": "Python 3 (ipykernel)",
   "language": "python",
   "name": "python3"
  },
  "language_info": {
   "codemirror_mode": {
    "name": "ipython",
    "version": 3
   },
   "file_extension": ".py",
   "mimetype": "text/x-python",
   "name": "python",
   "nbconvert_exporter": "python",
   "pygments_lexer": "ipython3",
   "version": "3.12.7"
  }
 },
 "nbformat": 4,
 "nbformat_minor": 5
}
