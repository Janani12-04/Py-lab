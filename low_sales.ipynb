{
 "cells": [
  {
   "cell_type": "code",
   "execution_count": 1,
   "id": "b445df8c-2d62-44b4-b0d7-4ff2bc47c1bf",
   "metadata": {},
   "outputs": [
    {
     "name": "stdout",
     "output_type": "stream",
     "text": [
      "25000\n",
      "0\n"
     ]
    }
   ],
   "source": [
    "import numpy as np\n",
    "sales=np.array([25000, 32000, 40000, 28000])\n",
    "low_sales=np.min(sales)\n",
    "print(low_sales)\n",
    "min_index=np.argmin(sales)\n",
    "print(min_index)"
   ]
  },
  {
   "cell_type": "code",
   "execution_count": null,
   "id": "59fac94a-84c8-462d-a705-001c567430f3",
   "metadata": {},
   "outputs": [],
   "source": []
  }
 ],
 "metadata": {
  "kernelspec": {
   "display_name": "Python 3 (ipykernel)",
   "language": "python",
   "name": "python3"
  },
  "language_info": {
   "codemirror_mode": {
    "name": "ipython",
    "version": 3
   },
   "file_extension": ".py",
   "mimetype": "text/x-python",
   "name": "python",
   "nbconvert_exporter": "python",
   "pygments_lexer": "ipython3",
   "version": "3.12.7"
  }
 },
 "nbformat": 4,
 "nbformat_minor": 5
}
