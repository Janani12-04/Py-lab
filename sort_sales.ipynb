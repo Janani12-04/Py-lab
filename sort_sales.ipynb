{
 "cells": [
  {
   "cell_type": "code",
   "execution_count": 2,
   "id": "6209f551-71ac-4891-bcc6-853c53034477",
   "metadata": {},
   "outputs": [
    {
     "name": "stdout",
     "output_type": "stream",
     "text": [
      "[1200 4500 2300  800 3200]\n",
      "[4500, 3200, 2300, 1200, 800]\n"
     ]
    }
   ],
   "source": [
    "import numpy as np\n",
    "sales =np.array([1200, 4500, 2300, 800, 3200])\n",
    "print(sales)\n",
    "sorted_sales = sorted(sales, reverse=True)\n",
    "print(sorted_sales)\n"
   ]
  },
  {
   "cell_type": "code",
   "execution_count": null,
   "id": "6bf42665-f539-488b-9de4-9382fefb654a",
   "metadata": {},
   "outputs": [],
   "source": []
  }
 ],
 "metadata": {
  "kernelspec": {
   "display_name": "Python 3 (ipykernel)",
   "language": "python",
   "name": "python3"
  },
  "language_info": {
   "codemirror_mode": {
    "name": "ipython",
    "version": 3
   },
   "file_extension": ".py",
   "mimetype": "text/x-python",
   "name": "python",
   "nbconvert_exporter": "python",
   "pygments_lexer": "ipython3",
   "version": "3.12.7"
  }
 },
 "nbformat": 4,
 "nbformat_minor": 5
}
