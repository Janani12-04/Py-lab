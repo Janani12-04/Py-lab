{
 "cells": [
  {
   "cell_type": "code",
   "execution_count": 5,
   "id": "c99b3c02-c805-421f-80ef-ffc41ecb2774",
   "metadata": {},
   "outputs": [
    {
     "name": "stdin",
     "output_type": "stream",
     "text": [
      "Enter feedback with the word Good:  What a Good Day , Everything Happened today was very Good. Have a Good Day\n"
     ]
    },
    {
     "name": "stdout",
     "output_type": "stream",
     "text": [
      "\n",
      "The word 'good' appeared 3 time(s) in the feedback.\n"
     ]
    }
   ],
   "source": [
    "Customer_feedback = input(\"Enter feedback with the word Good: \")\n",
    "count = Customer_feedback.lower().count(\"good\")\n",
    "print(f\"\\nThe word 'good' appeared {count} time(s) in the feedback.\")\n"
   ]
  },
  {
   "cell_type": "code",
   "execution_count": null,
   "id": "21d198b0-df37-4934-a59c-19e33525d825",
   "metadata": {},
   "outputs": [],
   "source": []
  }
 ],
 "metadata": {
  "kernelspec": {
   "display_name": "Python [conda env:base] *",
   "language": "python",
   "name": "conda-base-py"
  },
  "language_info": {
   "codemirror_mode": {
    "name": "ipython",
    "version": 3
   },
   "file_extension": ".py",
   "mimetype": "text/x-python",
   "name": "python",
   "nbconvert_exporter": "python",
   "pygments_lexer": "ipython3",
   "version": "3.12.7"
  }
 },
 "nbformat": 4,
 "nbformat_minor": 5
}
