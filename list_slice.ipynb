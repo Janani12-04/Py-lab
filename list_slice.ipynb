{
 "cells": [
  {
   "cell_type": "code",
   "execution_count": 7,
   "id": "5e43ab79-ed1d-426a-bcb2-a658bc7822ad",
   "metadata": {},
   "outputs": [
    {
     "name": "stdout",
     "output_type": "stream",
     "text": [
      "12\n",
      "33\n",
      "[12, 34, 56, 78]\n",
      "[12, 56, 90, 22]\n"
     ]
    }
   ],
   "source": [
    "numbers = [12, 34, 56, 78, 90, 11, 22, 33]\n",
    "first_element = numbers[0]\n",
    "last_element = numbers[-1]\n",
    "first_four = numbers[0:4]\n",
    "every_second = numbers[0::2] \n",
    "print(first_element)\n",
    "print(last_element)\n",
    "print(first_four)\n",
    "print(every_second)"
   ]
  },
  {
   "cell_type": "code",
   "execution_count": null,
   "id": "ccb55d49-51fa-4c68-9572-7fc77e378794",
   "metadata": {},
   "outputs": [],
   "source": []
  }
 ],
 "metadata": {
  "kernelspec": {
   "display_name": "Python [conda env:base] *",
   "language": "python",
   "name": "conda-base-py"
  },
  "language_info": {
   "codemirror_mode": {
    "name": "ipython",
    "version": 3
   },
   "file_extension": ".py",
   "mimetype": "text/x-python",
   "name": "python",
   "nbconvert_exporter": "python",
   "pygments_lexer": "ipython3",
   "version": "3.12.7"
  }
 },
 "nbformat": 4,
 "nbformat_minor": 5
}
