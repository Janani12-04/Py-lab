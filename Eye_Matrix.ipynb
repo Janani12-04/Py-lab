{
 "cells": [
  {
   "cell_type": "code",
   "execution_count": 5,
   "id": "685ef0fb-5d68-4ffa-a1e6-3447a185de69",
   "metadata": {},
   "outputs": [
    {
     "name": "stdout",
     "output_type": "stream",
     "text": [
      "Array:\n",
      " [[ 1  2  3  4  5]\n",
      " [ 6  7  8  9 10]\n",
      " [11 12 13 14 15]\n",
      " [16 17 18 19 20]\n",
      " [21 22 23 24 25]]\n",
      "\n",
      "Sliced Subarray:\n",
      " [[ 8  9 10]\n",
      " [13 14 15]\n",
      " [18 19 20]]\n",
      "\n",
      "Identity Matrix:\n",
      " [[1 0 0 0 0]\n",
      " [0 1 0 0 0]\n",
      " [0 0 1 0 0]\n",
      " [0 0 0 1 0]\n",
      " [0 0 0 0 1]]\n"
     ]
    }
   ],
   "source": [
    "import numpy as np\n",
    "array = np.arange(1, 26).reshape(5, 5)\n",
    "print(\"Array:\\n\", array)\n",
    "array2 = array[1:4, 2:5]\n",
    "print(\"\\nSliced Subarray:\\n\",array2)\n",
    "identity_matrix = np.eye(5,dtype='int16')\n",
    "print(\"\\nIdentity Matrix:\\n\", identity_matrix)\n"
   ]
  },
  {
   "cell_type": "code",
   "execution_count": null,
   "id": "02ed6504-314b-4a81-9724-2c99d727bd2f",
   "metadata": {},
   "outputs": [],
   "source": []
  }
 ],
 "metadata": {
  "kernelspec": {
   "display_name": "Python 3 (ipykernel)",
   "language": "python",
   "name": "python3"
  },
  "language_info": {
   "codemirror_mode": {
    "name": "ipython",
    "version": 3
   },
   "file_extension": ".py",
   "mimetype": "text/x-python",
   "name": "python",
   "nbconvert_exporter": "python",
   "pygments_lexer": "ipython3",
   "version": "3.12.7"
  }
 },
 "nbformat": 4,
 "nbformat_minor": 5
}
