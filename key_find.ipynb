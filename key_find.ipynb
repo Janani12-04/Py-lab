{
 "cells": [
  {
   "cell_type": "code",
   "execution_count": 9,
   "id": "cb813101-210f-4d18-80a5-fcc6b23c3dd8",
   "metadata": {},
   "outputs": [
    {
     "name": "stdin",
     "output_type": "stream",
     "text": [
      "Enter a key to look up :  name\n"
     ]
    },
    {
     "name": "stdout",
     "output_type": "stream",
     "text": [
      "The value for 'name' is: Ram\n"
     ]
    }
   ],
   "source": [
    "dict = {\n",
    "    \"name\": \"Ram\",\n",
    "    \"age\": 30,\n",
    "    \"city\": \"Bengaluru\",\n",
    "}\n",
    "\n",
    "try:\n",
    "    key = input(\"Enter a key to look up : \")\n",
    "    print(f\"The value for '{key}' is: {dict[key]}\")\n",
    "except KeyError:\n",
    "    print(\"Error: Key not found in the dictionary.\")\n"
   ]
  },
  {
   "cell_type": "code",
   "execution_count": 10,
   "id": "e87945f1-1253-46ce-ba1d-4d31ed15b5e0",
   "metadata": {},
   "outputs": [
    {
     "name": "stdin",
     "output_type": "stream",
     "text": [
      "Enter a key to look up :  place\n"
     ]
    },
    {
     "name": "stdout",
     "output_type": "stream",
     "text": [
      "Error: Key not found in the dictionary.\n"
     ]
    }
   ],
   "source": [
    "dict = {\n",
    "    \"name\": \"Ram\",\n",
    "    \"age\": 30,\n",
    "    \"city\": \"Bengaluru\",\n",
    "}\n",
    "\n",
    "try:\n",
    "    key = input(\"Enter a key to look up : \")\n",
    "    print(f\"The value for '{key}' is: {dict[key]}\")\n",
    "except KeyError:\n",
    "    print(\"Error: Key not found in the dictionary.\")\n"
   ]
  },
  {
   "cell_type": "code",
   "execution_count": null,
   "id": "f8bb4639-f1d0-4315-9dcb-1f5ebc5985a8",
   "metadata": {},
   "outputs": [],
   "source": []
  }
 ],
 "metadata": {
  "kernelspec": {
   "display_name": "Python 3 (ipykernel)",
   "language": "python",
   "name": "python3"
  },
  "language_info": {
   "codemirror_mode": {
    "name": "ipython",
    "version": 3
   },
   "file_extension": ".py",
   "mimetype": "text/x-python",
   "name": "python",
   "nbconvert_exporter": "python",
   "pygments_lexer": "ipython3",
   "version": "3.12.7"
  }
 },
 "nbformat": 4,
 "nbformat_minor": 5
}
