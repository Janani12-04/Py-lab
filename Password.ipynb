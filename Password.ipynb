{
 "cells": [
  {
   "cell_type": "code",
   "execution_count": 12,
   "id": "21d198b0-df37-4934-a59c-19e33525d825",
   "metadata": {},
   "outputs": [
    {
     "name": "stdin",
     "output_type": "stream",
     "text": [
      "Enter Username: Poorna\n"
     ]
    },
    {
     "name": "stdout",
     "output_type": "stream",
     "text": [
      "Poorna\n"
     ]
    },
    {
     "name": "stdin",
     "output_type": "stream",
     "text": [
      "Enter your password :  Poorna_29\n"
     ]
    },
    {
     "name": "stdout",
     "output_type": "stream",
     "text": [
      "\n",
      "Password is strong.\n"
     ]
    }
   ],
   "source": [
    "username=input(\"Enter Username:\")\n",
    "print(username)\n",
    "password = input(\"Enter your password : \")\n",
    "has_upper = any(c.isupper() for c in password)\n",
    "has_lower = any(c.islower() for c in password)\n",
    "has_digit = any(c.isdigit() for c in password)\n",
    "is_long_enough = len(password) >= 8\n",
    "if has_upper and has_lower and has_digit and is_long_enough:\n",
    "    print(\"\\nPassword is strong.\")\n",
    "else:\n",
    "    print(\"\\nPassword is weak. It must contain at least:\")\n",
    "    print(\" - 1 uppercase letter\")\n",
    "    print(\" - 1 lowercase letter\")\n",
    "    print(\" - 1 digit\")\n",
    "    print(\" - Minimum 8 characters\")\n"
   ]
  },
  {
   "cell_type": "code",
   "execution_count": null,
   "id": "106d4df9-faad-48b4-89ab-f6e18460154b",
   "metadata": {},
   "outputs": [],
   "source": []
  }
 ],
 "metadata": {
  "kernelspec": {
   "display_name": "Python [conda env:base] *",
   "language": "python",
   "name": "conda-base-py"
  },
  "language_info": {
   "codemirror_mode": {
    "name": "ipython",
    "version": 3
   },
   "file_extension": ".py",
   "mimetype": "text/x-python",
   "name": "python",
   "nbconvert_exporter": "python",
   "pygments_lexer": "ipython3",
   "version": "3.12.7"
  }
 },
 "nbformat": 4,
 "nbformat_minor": 5
}
