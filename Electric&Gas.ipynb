{
 "cells": [
  {
   "cell_type": "code",
   "execution_count": 1,
   "id": "5cec9f51-77d4-40f2-9578-2a0181edd233",
   "metadata": {},
   "outputs": [
    {
     "name": "stdout",
     "output_type": "stream",
     "text": [
      "January      350\n",
      "February     320\n",
      "March        310\n",
      "April        330\n",
      "May          340\n",
      "June         370\n",
      "July         380\n",
      "August       360\n",
      "September    350\n",
      "October      330\n",
      "November     320\n",
      "December     330\n",
      "dtype: int64\n",
      "January      20\n",
      "February     18\n",
      "March        16\n",
      "April        15\n",
      "May          12\n",
      "June         10\n",
      "July          8\n",
      "August        9\n",
      "September    12\n",
      "October      15\n",
      "November     17\n",
      "December     19\n",
      "dtype: int64\n",
      "\n",
      "Total Electricity Usage: 4090\n",
      "Total Gas Usage: 171\n",
      "Month with Highest Electricity Usage: July\n",
      "Month with Highest Gas Usage: January\n"
     ]
    }
   ],
   "source": [
    "import pandas as pd\n",
    "months = ['January', 'February', 'March', 'April', 'May', 'June',\n",
    "          'July', 'August', 'September', 'October', 'November', 'December']\n",
    "electricity_usage = [350, 320, 310, 330, 340, 370, 380, 360, 350, 330, 320, 330]\n",
    "gas_usage = [20, 18, 16, 15, 12, 10, 8, 9, 12, 15, 17, 19]\n",
    "electricity = pd.Series(electricity_usage, index=months)\n",
    "gas = pd.Series(gas_usage, index=months)\n",
    "print(electricity)\n",
    "print(gas)\n",
    "print(\"\\nTotal Electricity Usage:\", electricity.sum())\n",
    "print(\"Total Gas Usage:\", gas.sum())\n",
    "print(\"Month with Highest Electricity Usage:\", electricity.idxmax())\n",
    "print(\"Month with Highest Gas Usage:\", gas.idxmax())\n"
   ]
  },
  {
   "cell_type": "code",
   "execution_count": null,
   "id": "d0c56d7c-9af6-4a19-99b7-58c04c62deb8",
   "metadata": {},
   "outputs": [],
   "source": []
  }
 ],
 "metadata": {
  "kernelspec": {
   "display_name": "Python 3 (ipykernel)",
   "language": "python",
   "name": "python3"
  },
  "language_info": {
   "codemirror_mode": {
    "name": "ipython",
    "version": 3
   },
   "file_extension": ".py",
   "mimetype": "text/x-python",
   "name": "python",
   "nbconvert_exporter": "python",
   "pygments_lexer": "ipython3",
   "version": "3.12.7"
  }
 },
 "nbformat": 4,
 "nbformat_minor": 5
}
