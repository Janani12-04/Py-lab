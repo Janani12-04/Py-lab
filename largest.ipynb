{
 "cells": [
  {
   "cell_type": "code",
   "execution_count": 9,
   "id": "756e3091-35d1-404f-a83d-9e0513cf3ee5",
   "metadata": {},
   "outputs": [
    {
     "name": "stdout",
     "output_type": "stream",
     "text": [
      "num2 is the largest.\n"
     ]
    }
   ],
   "source": [
    "num1 = 155\n",
    "num2 = 250\n",
    "if num1 > num2:\n",
    "    print(\"num1 is the largest.\")\n",
    "else :\n",
    "    print(\"num2 is the largest.\")"
   ]
  },
  {
   "cell_type": "code",
   "execution_count": null,
   "id": "17466614-a864-4202-9793-ced676e301c3",
   "metadata": {},
   "outputs": [],
   "source": []
  }
 ],
 "metadata": {
  "kernelspec": {
   "display_name": "Python [conda env:base] *",
   "language": "python",
   "name": "conda-base-py"
  },
  "language_info": {
   "codemirror_mode": {
    "name": "ipython",
    "version": 3
   },
   "file_extension": ".py",
   "mimetype": "text/x-python",
   "name": "python",
   "nbconvert_exporter": "python",
   "pygments_lexer": "ipython3",
   "version": "3.12.7"
  }
 },
 "nbformat": 4,
 "nbformat_minor": 5
}
