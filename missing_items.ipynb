{
 "cells": [
  {
   "cell_type": "code",
   "execution_count": 136,
   "id": "41d4e2ec-4dbd-4a74-806b-412622e53a28",
   "metadata": {},
   "outputs": [
    {
     "name": "stdout",
     "output_type": "stream",
     "text": [
      "{'D', 'B'}\n"
     ]
    }
   ],
   "source": [
    "expected_items = {\"A\", \"B\", \"C\", \"D\", \"E\"}\n",
    "available_items = {\"A\", \"C\", \"E\"}\n",
    "missing_items = expected_items - available_items\n",
    "print(missing_items)\n"
   ]
  },
  {
   "cell_type": "code",
   "execution_count": null,
   "id": "54deb25c-ea2b-48d4-bbba-2d6e26ec62f8",
   "metadata": {},
   "outputs": [],
   "source": []
  }
 ],
 "metadata": {
  "kernelspec": {
   "display_name": "Python [conda env:base] *",
   "language": "python",
   "name": "conda-base-py"
  },
  "language_info": {
   "codemirror_mode": {
    "name": "ipython",
    "version": 3
   },
   "file_extension": ".py",
   "mimetype": "text/x-python",
   "name": "python",
   "nbconvert_exporter": "python",
   "pygments_lexer": "ipython3",
   "version": "3.12.7"
  }
 },
 "nbformat": 4,
 "nbformat_minor": 5
}
