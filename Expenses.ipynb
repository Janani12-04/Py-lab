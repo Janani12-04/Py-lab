{
 "cells": [
  {
   "cell_type": "code",
   "execution_count": 7,
   "id": "0c72d88c-af84-4d3f-9258-8b38de847452",
   "metadata": {},
   "outputs": [
    {
     "name": "stdout",
     "output_type": "stream",
     "text": [
      "Total Yearly Expense: 14900\n"
     ]
    }
   ],
   "source": [
    "import numpy as np\n",
    "monthly_expenses = np.array([1000,1500,2300,2800,1500,800,500,1300,2000,1200])\n",
    "yearly_expense = np.sum(monthly_expenses)\n",
    "print(\"Total Yearly Expense:\", yearly_expense)\n"
   ]
  },
  {
   "cell_type": "code",
   "execution_count": null,
   "id": "758c6604-181e-4513-88d1-8f5d1013ad04",
   "metadata": {},
   "outputs": [],
   "source": []
  }
 ],
 "metadata": {
  "kernelspec": {
   "display_name": "Python 3 (ipykernel)",
   "language": "python",
   "name": "python3"
  },
  "language_info": {
   "codemirror_mode": {
    "name": "ipython",
    "version": 3
   },
   "file_extension": ".py",
   "mimetype": "text/x-python",
   "name": "python",
   "nbconvert_exporter": "python",
   "pygments_lexer": "ipython3",
   "version": "3.12.7"
  }
 },
 "nbformat": 4,
 "nbformat_minor": 5
}
