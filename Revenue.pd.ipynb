{
 "cells": [
  {
   "cell_type": "code",
   "execution_count": 14,
   "id": "d0c56d7c-9af6-4a19-99b7-58c04c62deb8",
   "metadata": {},
   "outputs": [
    {
     "name": "stdout",
     "output_type": "stream",
     "text": [
      "Monthly Advertising Revenue:\n",
      "January      5000\n",
      "February     5200\n",
      "March        4800\n",
      "April        5400\n",
      "May          5600\n",
      "June         5800\n",
      "July         6100\n",
      "August       5900\n",
      "September    6200\n",
      "October      6500\n",
      "November     7000\n",
      "December     6900\n",
      "dtype: int64\n",
      "\n",
      "Total Revenue: 70400\n",
      "Highest Revenue Month: 7000\n",
      "Lowest Revenue Month: 4800\n",
      "Average Monthly Revenue: 5866.666666666667\n"
     ]
    }
   ],
   "source": [
    "import pandas as pd\n",
    "months = ['January', 'February', 'March', 'April', 'May', 'June',\n",
    "          'July', 'August', 'September', 'October', 'November', 'December']\n",
    "revenue = [5000, 5200, 4800, 5400, 5600, 5800, 6100, 5900, 6200, 6500, 7000, 6900]\n",
    "revenue_data = pd.Series(revenue, index=months)\n",
    "print(\"Monthly Advertising Revenue:\")\n",
    "print(revenue_data)\n",
    "print(\"\\nTotal Revenue:\", revenue_data.sum())\n",
    "print(\"Highest Revenue Month:\",revenue_data.max())\n",
    "print(\"Lowest Revenue Month:\", revenue_data.min())\n",
    "print(\"Average Monthly Revenue:\", revenue_data.mean())\n"
   ]
  },
  {
   "cell_type": "code",
   "execution_count": null,
   "id": "f7ac6b7b-90c0-4683-a7d1-382195f1906a",
   "metadata": {},
   "outputs": [],
   "source": []
  }
 ],
 "metadata": {
  "kernelspec": {
   "display_name": "Python 3 (ipykernel)",
   "language": "python",
   "name": "python3"
  },
  "language_info": {
   "codemirror_mode": {
    "name": "ipython",
    "version": 3
   },
   "file_extension": ".py",
   "mimetype": "text/x-python",
   "name": "python",
   "nbconvert_exporter": "python",
   "pygments_lexer": "ipython3",
   "version": "3.12.7"
  }
 },
 "nbformat": 4,
 "nbformat_minor": 5
}
