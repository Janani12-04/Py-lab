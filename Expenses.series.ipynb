{
 "cells": [
  {
   "cell_type": "code",
   "execution_count": 12,
   "id": "4293c322-9ebf-4e0e-b6e3-64dc03175a94",
   "metadata": {},
   "outputs": [
    {
     "name": "stdout",
     "output_type": "stream",
     "text": [
      "Monthly Expenses:\n",
      "Groceries          500\n",
      "Utilities          200\n",
      "Rent              1200\n",
      "Transportation     300\n",
      "Entertainment      150\n",
      "dtype: int64\n",
      "\n",
      "Total Expense: 2350\n",
      "Highest Expense: 1200\n",
      "Lowest Expense: 150\n",
      "Average Expense: 470.0\n"
     ]
    }
   ],
   "source": [
    "import pandas as pd\n",
    "categories = ['Groceries', 'Utilities', 'Rent', 'Transportation', 'Entertainment']\n",
    "expenses = [500, 200, 1200, 300, 150]\n",
    "expense_data = pd.Series(expenses, index=categories)\n",
    "print(\"Monthly Expenses:\")\n",
    "print(expense_data)\n",
    "print(\"\\nTotal Expense:\", expense_data.sum())\n",
    "print(\"Highest Expense:\", expense_data.max())\n",
    "print(\"Lowest Expense:\", expense_data.min())\n",
    "print(\"Average Expense:\", expense_data.mean())\n"
   ]
  },
  {
   "cell_type": "code",
   "execution_count": null,
   "id": "5cec9f51-77d4-40f2-9578-2a0181edd233",
   "metadata": {},
   "outputs": [],
   "source": []
  }
 ],
 "metadata": {
  "kernelspec": {
   "display_name": "Python 3 (ipykernel)",
   "language": "python",
   "name": "python3"
  },
  "language_info": {
   "codemirror_mode": {
    "name": "ipython",
    "version": 3
   },
   "file_extension": ".py",
   "mimetype": "text/x-python",
   "name": "python",
   "nbconvert_exporter": "python",
   "pygments_lexer": "ipython3",
   "version": "3.12.7"
  }
 },
 "nbformat": 4,
 "nbformat_minor": 5
}
