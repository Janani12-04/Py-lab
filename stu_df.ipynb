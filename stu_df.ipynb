{
 "cells": [
  {
   "cell_type": "code",
   "execution_count": 2,
   "id": "ee753fe9-29ce-43cf-be2f-ef88333bb2b5",
   "metadata": {},
   "outputs": [
    {
     "name": "stdout",
     "output_type": "stream",
     "text": [
      "Students who scored more than 80 in Math:\n",
      "     Name  Math  Science  English\n",
      "0     Ram    85       90       78\n",
      "2  Chandu    92       87       85\n",
      "4    Jaan    88       95       80\n",
      "\n",
      "DataFrame sorted by Science scores (descending):\n",
      "     Name  Math  Science  English\n",
      "4    Jaan    88       95       80\n",
      "0     Ram    85       90       78\n",
      "2  Chandu    92       87       85\n",
      "1    Abhi    78       82       88\n",
      "3   Dhanu    66       75       91\n",
      "\n",
      "Student with the highest English score:\n",
      "    Name  Math  Science  English\n",
      "3  Dhanu    66       75       91\n"
     ]
    }
   ],
   "source": [
    "import pandas as pd\n",
    "data = {\n",
    "    'Name': ['Ram','Abhi','Chandu','Dhanu','Jaan'],\n",
    "    'Math': [85, 78, 92, 66, 88],\n",
    "    'Science': [90, 82, 87, 75, 95],\n",
    "    'English': [78, 88, 85, 91, 80]\n",
    "}\n",
    "\n",
    "df = pd.DataFrame(data)\n",
    "print(\"Students who scored more than 80 in Math:\")\n",
    "print(df[df['Math'] > 80])\n",
    "sorted_df = df.sort_values(by='Science', ascending=False)\n",
    "print(\"\\nDataFrame sorted by Science scores (descending):\")\n",
    "print(sorted_df)\n",
    "top_english_student = df[df['English'] == df['English'].max()]\n",
    "print(\"\\nStudent with the highest English score:\")\n",
    "print(top_english_student)\n"
   ]
  },
  {
   "cell_type": "code",
   "execution_count": null,
   "id": "4293c322-9ebf-4e0e-b6e3-64dc03175a94",
   "metadata": {},
   "outputs": [],
   "source": []
  }
 ],
 "metadata": {
  "kernelspec": {
   "display_name": "Python 3 (ipykernel)",
   "language": "python",
   "name": "python3"
  },
  "language_info": {
   "codemirror_mode": {
    "name": "ipython",
    "version": 3
   },
   "file_extension": ".py",
   "mimetype": "text/x-python",
   "name": "python",
   "nbconvert_exporter": "python",
   "pygments_lexer": "ipython3",
   "version": "3.12.7"
  }
 },
 "nbformat": 4,
 "nbformat_minor": 5
}
