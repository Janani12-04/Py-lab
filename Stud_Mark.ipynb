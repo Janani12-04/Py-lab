{
 "cells": [
  {
   "cell_type": "code",
   "execution_count": 5,
   "id": "54deb25c-ea2b-48d4-bbba-2d6e26ec62f8",
   "metadata": {},
   "outputs": [
    {
     "name": "stdin",
     "output_type": "stream",
     "text": [
      "Enter a student's name Whose Marks is Required:  John\n"
     ]
    },
    {
     "name": "stdout",
     "output_type": "stream",
     "text": [
      "John's marks: 78\n"
     ]
    }
   ],
   "source": [
    "students = {\n",
    "    \"Ram\": 85,\n",
    "    \"Abhi\": 92,\n",
    "    \"John\": 78,\n",
    "    \"Vicky\": 88\n",
    "}\n",
    "name = input(\"Enter a student's name Whose Marks is Required: \")\n",
    "if name in students:\n",
    "    print(f\"{name}'s marks: {students[name]}\")\n",
    "else:\n",
    "    print(f\"No records found on student: {name}\")\n"
   ]
  },
  {
   "cell_type": "code",
   "execution_count": 7,
   "id": "52b624d3-8182-4ae1-be16-d67ad199d70a",
   "metadata": {},
   "outputs": [
    {
     "name": "stdin",
     "output_type": "stream",
     "text": [
      "Enter a student's name Whose Marks is Required:  Jaan\n"
     ]
    },
    {
     "name": "stdout",
     "output_type": "stream",
     "text": [
      "No records found for student: Jaan\n"
     ]
    }
   ],
   "source": [
    "students = {\n",
    "    \"Ram\": 85,\n",
    "    \"Abhi\": 92,\n",
    "    \"John\": 78,\n",
    "    \"Vicky\": 88\n",
    "}\n",
    "name = input(\"Enter a student's name Whose Marks is Required: \")\n",
    "if name in students:\n",
    "    print(f\"{name}'s marks: {students[name]}\")\n",
    "else:\n",
    "    print(f\"No records found for student: {name}\")\n"
   ]
  },
  {
   "cell_type": "code",
   "execution_count": null,
   "id": "b4d45b3c-a5a2-46a8-922b-a72bc295b855",
   "metadata": {},
   "outputs": [],
   "source": []
  }
 ],
 "metadata": {
  "kernelspec": {
   "display_name": "Python [conda env:base] *",
   "language": "python",
   "name": "conda-base-py"
  },
  "language_info": {
   "codemirror_mode": {
    "name": "ipython",
    "version": 3
   },
   "file_extension": ".py",
   "mimetype": "text/x-python",
   "name": "python",
   "nbconvert_exporter": "python",
   "pygments_lexer": "ipython3",
   "version": "3.12.7"
  }
 },
 "nbformat": 4,
 "nbformat_minor": 5
}
