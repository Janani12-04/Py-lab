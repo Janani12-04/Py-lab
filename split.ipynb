{
 "cells": [
  {
   "cell_type": "code",
   "execution_count": 19,
   "id": "a2c48501-e08f-4e2b-b541-960ce785af73",
   "metadata": {},
   "outputs": [
    {
     "name": "stdout",
     "output_type": "stream",
     "text": [
      "Splitted the said list into two parts:\n",
      "[1, 1, 2] [3, 4, 4, 5, 1]\n"
     ]
    }
   ],
   "source": [
    "my_list = [1, 1, 2, 3, 4, 4, 5, 1]\n",
    "length = 3\n",
    "part1 = my_list[:length]\n",
    "part2 = my_list[length:]\n",
    "print(\"Splitted the said list into two parts:\")\n",
    "print(part1, part2)"
   ]
  },
  {
   "cell_type": "code",
   "execution_count": null,
   "id": "38f6a5f2-89a6-4440-b8f4-6c9709d12002",
   "metadata": {},
   "outputs": [],
   "source": []
  }
 ],
 "metadata": {
  "kernelspec": {
   "display_name": "Python [conda env:base] *",
   "language": "python",
   "name": "conda-base-py"
  },
  "language_info": {
   "codemirror_mode": {
    "name": "ipython",
    "version": 3
   },
   "file_extension": ".py",
   "mimetype": "text/x-python",
   "name": "python",
   "nbconvert_exporter": "python",
   "pygments_lexer": "ipython3",
   "version": "3.12.7"
  }
 },
 "nbformat": 4,
 "nbformat_minor": 5
}
