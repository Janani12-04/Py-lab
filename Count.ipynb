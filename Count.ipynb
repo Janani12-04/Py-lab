{
 "cells": [
  {
   "cell_type": "code",
   "execution_count": 6,
   "id": "12ff9b70-aaa9-4a44-8fb0-24e51e320daf",
   "metadata": {},
   "outputs": [
    {
     "name": "stdin",
     "output_type": "stream",
     "text": [
      "Enter a string:  Hello\n",
      "Enter the character to count:  l\n"
     ]
    },
    {
     "name": "stdout",
     "output_type": "stream",
     "text": [
      "The character 'l' appears 2 times in the string.\n"
     ]
    }
   ],
   "source": [
    "def count_char_occurrences(s, char):\n",
    "    return s.count(char)\n",
    "s = input(\"Enter a string: \")\n",
    "char = input(\"Enter the character to count: \")\n",
    "if len(char) != 1:\n",
    "    print(\"Please enter a single character to count.\")\n",
    "else:\n",
    "    count = count_char_occurrences(s, char)\n",
    "    print(f\"The character '{char}' appears {count} times in the string.\")\n"
   ]
  },
  {
   "cell_type": "code",
   "execution_count": null,
   "id": "4e83bcea-b1cf-4270-8fc3-6f0028989c3a",
   "metadata": {},
   "outputs": [],
   "source": []
  }
 ],
 "metadata": {
  "kernelspec": {
   "display_name": "Python [conda env:base] *",
   "language": "python",
   "name": "conda-base-py"
  },
  "language_info": {
   "codemirror_mode": {
    "name": "ipython",
    "version": 3
   },
   "file_extension": ".py",
   "mimetype": "text/x-python",
   "name": "python",
   "nbconvert_exporter": "python",
   "pygments_lexer": "ipython3",
   "version": "3.12.7"
  }
 },
 "nbformat": 4,
 "nbformat_minor": 5
}
