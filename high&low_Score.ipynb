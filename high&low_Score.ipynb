{
 "cells": [
  {
   "cell_type": "code",
   "execution_count": 2,
   "id": "a9f2d6fa-1257-47fe-aedd-1038cdd7f266",
   "metadata": {},
   "outputs": [
    {
     "name": "stdout",
     "output_type": "stream",
     "text": [
      "Highest Score is: 99\n",
      "Lowest Score is: 78\n"
     ]
    }
   ],
   "source": [
    "import numpy as np\n",
    "scores = np.array([90,92,78,80,99])\n",
    "highest = np.max(scores)\n",
    "lowest = np.min(scores)\n",
    "print(\"Highest Score is:\", highest)\n",
    "print(\"Lowest Score is:\", lowest)\n"
   ]
  },
  {
   "cell_type": "code",
   "execution_count": null,
   "id": "0c72d88c-af84-4d3f-9258-8b38de847452",
   "metadata": {},
   "outputs": [],
   "source": []
  }
 ],
 "metadata": {
  "kernelspec": {
   "display_name": "Python 3 (ipykernel)",
   "language": "python",
   "name": "python3"
  },
  "language_info": {
   "codemirror_mode": {
    "name": "ipython",
    "version": 3
   },
   "file_extension": ".py",
   "mimetype": "text/x-python",
   "name": "python",
   "nbconvert_exporter": "python",
   "pygments_lexer": "ipython3",
   "version": "3.12.7"
  }
 },
 "nbformat": 4,
 "nbformat_minor": 5
}
