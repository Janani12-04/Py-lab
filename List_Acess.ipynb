{
 "cells": [
  {
   "cell_type": "code",
   "execution_count": 2,
   "id": "23380b39-c139-47d4-89d2-fa571b636378",
   "metadata": {},
   "outputs": [
    {
     "name": "stdin",
     "output_type": "stream",
     "text": [
      "Enter an index to retrieve an item from the list: 5\n"
     ]
    },
    {
     "name": "stdout",
     "output_type": "stream",
     "text": [
      "Error: Index out of range. Please enter a number between 0 and 4.\n"
     ]
    }
   ],
   "source": [
    "list = ['Apple', 'Banana', 'Mango', 'Orange', 'Kiwi']\n",
    "try:\n",
    "    index = int(input(\"Enter an index to retrieve an item from the list:\"))\n",
    "    print(f\"Item at index {index} is: {list[index]}\")\n",
    "except IndexError:\n",
    "    print(\"Error: Index out of range. Please enter a number between 0 and 4.\")\n",
    "except ValueError:\n",
    "    print(\"Error: Invalid input. Please enter an integer.\")\n"
   ]
  },
  {
   "cell_type": "code",
   "execution_count": 3,
   "id": "71240e8d-1a0f-4f7b-b331-e53e14dc2c62",
   "metadata": {},
   "outputs": [
    {
     "name": "stdin",
     "output_type": "stream",
     "text": [
      "Enter an index to retrieve an item from the list: 2\n"
     ]
    },
    {
     "name": "stdout",
     "output_type": "stream",
     "text": [
      "Item at index 2 is: Mango\n"
     ]
    }
   ],
   "source": [
    "list = ['Apple', 'Banana', 'Mango', 'Orange', 'Kiwi']\n",
    "try:\n",
    "    index = int(input(\"Enter an index to retrieve an item from the list:\"))\n",
    "    print(f\"Item at index {index} is: {list[index]}\")\n",
    "except IndexError:\n",
    "    print(\"Error: Index out of range. Please enter a number between 0 and 4.\")\n",
    "except ValueError:\n",
    "    print(\"Error: Invalid input. Please enter an integer.\")\n"
   ]
  },
  {
   "cell_type": "code",
   "execution_count": null,
   "id": "a19b849e-714b-46aa-843e-990517351145",
   "metadata": {},
   "outputs": [],
   "source": []
  }
 ],
 "metadata": {
  "kernelspec": {
   "display_name": "Python 3 (ipykernel)",
   "language": "python",
   "name": "python3"
  },
  "language_info": {
   "codemirror_mode": {
    "name": "ipython",
    "version": 3
   },
   "file_extension": ".py",
   "mimetype": "text/x-python",
   "name": "python",
   "nbconvert_exporter": "python",
   "pygments_lexer": "ipython3",
   "version": "3.12.7"
  }
 },
 "nbformat": 4,
 "nbformat_minor": 5
}
