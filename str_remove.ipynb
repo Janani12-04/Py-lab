{
 "cells": [
  {
   "cell_type": "code",
   "execution_count": 1,
   "id": "2e34cd0b-5d30-4768-acf3-7e0d0d83861a",
   "metadata": {},
   "outputs": [
    {
     "name": "stdin",
     "output_type": "stream",
     "text": [
      "Enter a string:  Hello\n",
      "Enter the character to remove:  l\n"
     ]
    },
    {
     "name": "stdout",
     "output_type": "stream",
     "text": [
      "String after removing 'l': Heo\n"
     ]
    }
   ],
   "source": [
    "def remove_char(s, char):\n",
    "    return s.replace(char, \"\")\n",
    "s = input(\"Enter a string: \")\n",
    "char = input(\"Enter the character to remove: \")\n",
    "if len(char) != 1:\n",
    "    print(\"Please enter a single character to remove.\")\n",
    "else:\n",
    "    result = remove_char(s, char)\n",
    "    print(f\"String after removing '{char}': {result}\")\n"
   ]
  },
  {
   "cell_type": "code",
   "execution_count": null,
   "id": "12ff9b70-aaa9-4a44-8fb0-24e51e320daf",
   "metadata": {},
   "outputs": [],
   "source": []
  }
 ],
 "metadata": {
  "kernelspec": {
   "display_name": "Python [conda env:base] *",
   "language": "python",
   "name": "conda-base-py"
  },
  "language_info": {
   "codemirror_mode": {
    "name": "ipython",
    "version": 3
   },
   "file_extension": ".py",
   "mimetype": "text/x-python",
   "name": "python",
   "nbconvert_exporter": "python",
   "pygments_lexer": "ipython3",
   "version": "3.12.7"
  }
 },
 "nbformat": 4,
 "nbformat_minor": 5
}
