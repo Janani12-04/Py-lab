{
 "cells": [
  {
   "cell_type": "code",
   "execution_count": 7,
   "id": "2e06491c-5928-434a-9141-a602e1b71ece",
   "metadata": {},
   "outputs": [
    {
     "name": "stdout",
     "output_type": "stream",
     "text": [
      "3\n",
      "1\n",
      "6\n"
     ]
    }
   ],
   "source": [
    "def count_vowels(s):\n",
    "    vowels = \"aeiouAEIOU\"\n",
    "    count = sum(1 for char in s if char in vowels)\n",
    "    return count\n",
    "print(count_vowels(\"Hello World\"))\n",
    "print(count_vowels(\"Python\")) \n",
    "print(count_vowels(\"Beautiful Day\"))\n"
   ]
  },
  {
   "cell_type": "code",
   "execution_count": null,
   "id": "7c5b6299-955e-4c25-99af-9364c4b9a4d6",
   "metadata": {},
   "outputs": [],
   "source": []
  }
 ],
 "metadata": {
  "kernelspec": {
   "display_name": "Python [conda env:base] *",
   "language": "python",
   "name": "conda-base-py"
  },
  "language_info": {
   "codemirror_mode": {
    "name": "ipython",
    "version": 3
   },
   "file_extension": ".py",
   "mimetype": "text/x-python",
   "name": "python",
   "nbconvert_exporter": "python",
   "pygments_lexer": "ipython3",
   "version": "3.12.7"
  }
 },
 "nbformat": 4,
 "nbformat_minor": 5
}
